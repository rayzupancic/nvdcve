{
 "cells": [
  {
   "cell_type": "markdown",
   "metadata": {},
   "source": [
    "## NVD CVE JSON Mirror Maintenance\n",
    "\n",
    "### This is a collection of routines to maintain a mirror of the NVD JSON CVE repository.\n",
    "\n",
    "To use:\n",
    "    <ul>\n",
    "    <li>install mongodb\n",
    "    <li>create a database called nvd\n",
    "    <li>create collections: maincol, modscol, metacol\n",
    "    <li>identify a working and a config directory - working dir is to download JSON files , config dir is where you put\n",
    "        the .mongo.env file\n",
    "    </ul>\n",
    "        "
   ]
  },
  {
   "cell_type": "code",
   "execution_count": 435,
   "metadata": {},
   "outputs": [],
   "source": [
    "#author: Ray Zupancic - Grumblesoft.com\n",
    "import requests\n",
    "from pathlib import Path\n",
    "import json\n",
    "from pymongo import MongoClient\n",
    "from bson import json_util\n",
    "from bson.objectid import ObjectId\n",
    "import pandas as pd\n",
    "import glob\n",
    "import sys\n",
    "import zipfile\n",
    "import datetime\n",
    "import pathlib\n",
    "\n",
    "class MongodbConn():\n",
    "    \n",
    "    def __init__(self,configpath='', configname=\".mongo.env\"):\n",
    "        if configpath == '':\n",
    "            #set a home directory path where all JSON files and mongodb config live\n",
    "            self.configpath = str(Path.home())+\"/\" + configname\n",
    "        else:\n",
    "            self.configpath = configpath\n",
    "        \n",
    "        try:\n",
    "            #read the params    \n",
    "            self.par = self._get_params(self.configpath)    \n",
    "            self.cli = self._connect_mongo(self.par)\n",
    "            #validate that the db exists\n",
    "            db_names = self.cli.list_database_names()\n",
    "            db = self.par[\"database\"]\n",
    "            if not db in db_names:\n",
    "                raise Exception(\"db: {} not found on instance\".format(db))\n",
    "            self.mydb = self.cli[db]\n",
    "            #connect to or create the collections\n",
    "            self.maincol = self.mydb[self.par[\"maincollection\"]]\n",
    "            self.modscol = self.mydb[self.par[\"modscollection\"]]\n",
    "            self.metacol = self.mydb[self.par[\"metacollection\"]]\n",
    "            self.intecol = self.mydb[self.par[\"intecollection\"]]\n",
    "        except ValueError as v:\n",
    "            print(repr(v))\n",
    "        except Exception as e:\n",
    "            print(\"Could not connect to the collection\")\n",
    "            print(repr(e))\n",
    "            sys.exit()\n",
    "\n",
    "        \n",
    "    def _get_params(self,filename):\n",
    "        ''' Public method to read values from a file and get parameters\n",
    "            place your mongodb connect information in this file\n",
    "            server,<yourservername or IP>\n",
    "            username,<username>\n",
    "            password,<mongopassword>\n",
    "            authSource,<db you are authenticating against>\n",
    "            database,<your-database>\n",
    "            collection,<your-collection>\n",
    "        '''\n",
    "        myparams = {}\n",
    "        with open(filename) as myfile:\n",
    "            for line in myfile:\n",
    "                key, value = line.partition(\"=\")[::2]\n",
    "                myparams[key.strip()] = value.strip()\n",
    "        return myparams\n",
    "\n",
    "    \n",
    "    def _connect_mongo(self,params):\n",
    "        '''\n",
    "            Public method to connect to a mongo instance using params from input\n",
    "            params - a dictionary with user, password, server and database\n",
    "        '''\n",
    "        client = MongoClient(params.get(\"server\"),\\\n",
    "                              username=params.get(\"username\"),\\\n",
    "                              password=params.get(\"password\"),\\\n",
    "                              authSource=params.get(\"authSource\"),\\\n",
    "                              authMechanism='SCRAM-SHA-1')\n",
    "        return client\n",
    "\n",
    "    \n",
    "class QueryMongo(MongodbConn):\n",
    "    '''\n",
    "        queryMongo class is used to apply find functions against a mongodb \n",
    "        inherits: mongoConn - connection instance\n",
    "    '''\n",
    "    \n",
    "    def __init__(self,configpath='', configname=\".mongo.env\"):\n",
    "        '''\n",
    "            Intializer method - instance the super class initializer\n",
    "        '''\n",
    "        super().__init__(configpath, configname)\n",
    "    \n",
    "    def get_count(self, col):\n",
    "        '''\n",
    "            Public method to return the document count for a given collection\n",
    "            input: collection\n",
    "            output: integer \n",
    "        '''\n",
    "        return col.count_documents({})\n",
    "    \n",
    "    \n",
    "    def get_fields(self,data_l,col):\n",
    "        '''\n",
    "            Public method to query mongodb\n",
    "            input: list of fields []\n",
    "            output: cursor mongodb\n",
    "        '''\n",
    "        qs = '\"_id\":0'\n",
    "        for item in data_l:\n",
    "            qs += ',\"'+item+'\":1'\n",
    "        print(qs)\n",
    "        cursor = col.find({},{qs})\n",
    "        return cursor\n",
    "\n",
    "    \n",
    "    def get_fields(self,filter_d,proj_d, col):\n",
    "        '''\n",
    "            Public method to query a field \n",
    "            input: filter (dictionary), projection (dictionary), collection\n",
    "            output: cursor (mongodb)\n",
    "        '''\n",
    "        cursor = col.find(filter_d,proj_d)\n",
    "        return cursor\n",
    "    \n",
    "    \n",
    "    def get_cve(self,cve, col):\n",
    "        '''\n",
    "            Public method to query a collection for a given CVE\n",
    "            input: cve (string), collection\n",
    "            output: dictionary\n",
    "        '''\n",
    "        try:\n",
    "            cve_d = col.find_one({\"CVE_ID\":cve})\n",
    "            if not bool(cve_d):\n",
    "                raise ValueError(\"CVE: {} does not exist\".format(cve))\n",
    "        except Exception as e:\n",
    "            print(repr(e))\n",
    "        return cve_d\n",
    "\n",
    "    \n",
    "    def get_cve_last_modified(self,CVE, col):\n",
    "        '''\n",
    "            Public method to get last modified date\n",
    "            input: string (CVE ID), collection\n",
    "            output: cursor\n",
    "        '''\n",
    "        filter_d = {\"CVE_ID\":{ \"$regex\": CVE }}\n",
    "        proj_d = {\"_id\":0,\"lastModifiedDate\":1}\n",
    "        cr = col.find(filter_d, proj_d)\n",
    "        return cr\n",
    "    \n",
    "    \n",
    "    def get_true_mods_CVEID(self):\n",
    "        '''\n",
    "            Public method to get the mod CVEs that are not new. This uses pandas to do the intersection\n",
    "            input: na\n",
    "            output: DataFrame\n",
    "        '''\n",
    "        filt = {}\n",
    "        proj = {'CVE_ID':1,'_id':0}\n",
    "        cr1 = self.maincol.find(filt, proj)\n",
    "        df1 = pd.DataFrame(list(cr1))\n",
    "        proj = {'CVE_ID':1,'_id':0,'lastModifiedDate':1}\n",
    "        cr2 = self.modscol.find(filt, proj)\n",
    "        df2 = pd.DataFrame(list(cr2))\n",
    "                       \n",
    "        return df2.merge(df1,how='inner',on='CVE_ID')\n",
    "    \n",
    "    def get_new_cves_from_mods(self):\n",
    "        '''\n",
    "            Public method to get the mod CVEs that are new. This uses pandas to do the intersection\n",
    "            input: na\n",
    "            output: DataFrame\n",
    "        '''\n",
    "        filt = {}\n",
    "        proj = {'CVE_ID':1,'_id':0}\n",
    "        cr1 = self.maincol.find(filt, proj)\n",
    "        df1 = pd.DataFrame(list(cr1))\n",
    "        proj = {'CVE_ID':1,'_id':0,'lastModifiedDate':1}\n",
    "        cr2 = self.modscol.find(filt, proj)\n",
    "        df2 = pd.DataFrame(list(cr2))\n",
    "        #use the indicator to get the left outer join with exclusion\n",
    "        df =  pd.merge(df2,df1,on='CVE_ID',how='outer',indicator=True)        \n",
    "        return df[df['_merge']=='left_only']\n",
    "    \n",
    "    \n",
    "    def get_CVEID_newer_than(self,datestring, col=\"maincol\"):\n",
    "        '''\n",
    "            Public method to return a DataFrame of all CVEs and LastModifiedDAte newer than the string \n",
    "            supplied. Supply a date in for format 2015-09-15 (yyyy-mm-dd). The caller can optionally supply a \n",
    "            collection, the default is maincol.This uses pandas to do the intersection\n",
    "            input: datestring (str), collection\n",
    "            output: DataFrame\n",
    "        '''\n",
    "        QueryMongo.valid_date(datestring)\n",
    "        try:\n",
    "            filt = {}\n",
    "            proj = {'CVE_ID':1,'_id':0,'lastModifiedDate':1}\n",
    "            #get cursor\n",
    "            cr = self.modscol.find(filt, proj)\n",
    "            #convert cursor to DataFrame\n",
    "            df = pd.DataFrame(list(cr))\n",
    "            df[\"Updated\"] = pd.to_datetime(df[\"lastModifiedDate\"])\n",
    "            df['Updated'] = pd.to_datetime(df['Updated']).apply(lambda x: x.replace(tzinfo=None)) \n",
    "            ts = pd.Timestamp(datestring)\n",
    "            #return results greater than the timestamp provided\n",
    "            df=df[df['Updated']>ts]\n",
    "        except Exception as e:\n",
    "            print(repr(e))\n",
    "            \n",
    "        return df[df[\"Updated\"]>ts]\n",
    "    \n",
    "    def _parse_json(self, data):\n",
    "        '''\n",
    "            Private method to handle BSON\n",
    "            input: BSON\n",
    "            output: JSON\n",
    "        '''\n",
    "        return json.loads(json_util.dumps(data))\n",
    "    \n",
    "    @staticmethod\n",
    "    def valid_date(date_text):\n",
    "        try:\n",
    "            datetime.datetime.strptime(date_text, '%Y-%m-%d')\n",
    "        except ValueError:\n",
    "            raise ValueError(\"Incorrect data format, should be YYYY-MM-DD\")\n",
    "            \n",
    "\n",
    "class UpdateMongo(QueryMongo):\n",
    "    \n",
    "    \n",
    "    def __init__(self, workingpath = '', configpath='', configname=\".mongo.env\"):\n",
    "        '''\n",
    "            Intializer method - instance the super class initializer\n",
    "            input: string (working directory), string (config directory), string (ini file)\n",
    "        '''\n",
    "        super().__init__(configpath, configname)\n",
    "        self.workingpath = workingpath\n",
    "        \n",
    "        \n",
    "    def get_NVD_files(self,file_l):\n",
    "        ''' Public method to download NVD datafiles in zip format, the URL is:\n",
    "            https://nvd.nist.gov/feeds/json/cve/1.1/nvdcve-1.1-[year].json.gz\n",
    "            inputs: d_path - directory path as string\n",
    "        '''\n",
    "        for file in file_l:\n",
    "            try:\n",
    "                #need the URL, which for NVD files is an embedding of the year\n",
    "                url = 'https://nvd.nist.gov/feeds/json/cve/1.1/' +file\n",
    "                f = requests.get(url, allow_redirects=True)\n",
    "                #save the file\n",
    "                f_path = self.workingpath + file\n",
    "                open(f_path, 'wb').write(f.content)\n",
    "                f.close()\n",
    "            except Exception as e:\n",
    "                print(\"error on download - check NVD JSON files availability\")\n",
    "                print(repr(e))\n",
    "            try:\n",
    "                #unzip the NVD files\n",
    "                with zipfile.ZipFile(f_path, 'r') as zip_ref:\n",
    "                    zip_ref.extractall(self.workingpath)\n",
    "            except Exception as e:\n",
    "                print(\"error on unzipping files\")\n",
    "                print(repr(e))\n",
    "\n",
    "    def rebuild_yearly_NVD_files(self,download_files=False):\n",
    "        '''\n",
    "            Public method to rebuild the yearly data from NVD. This will empty the main cve collection and\n",
    "            rebuild it with new NVD files. Generally, one would want to use the modified file from NVD to add\n",
    "            modifications and insertions rather than rebuilding frequently \n",
    "            input: boolean (download NVD files from NVD?)\n",
    "            output: list (inserted files)\n",
    "        '''\n",
    "        json_files_l = []\n",
    "        #get the present year - we will get all files ffrom 2002 to present year\n",
    "        year = datetime.date.today().year\n",
    "        years = range(2002,year+1)\n",
    "        for year in years:\n",
    "            json_files_l.append('nvdcve-1.1-' + str(year) + '.json.zip')\n",
    "        #download the files and unzip\n",
    "        if download_files:\n",
    "            self.get_NVD_files(json_files_l)\n",
    "        #delete all docs in main collection\n",
    "        self.remove_all_cves(self.maincol)\n",
    "        \n",
    "        json_files_l = [item[:-4] for item in json_files_l]\n",
    "        self.manage_bulk_insert(json_files_l)\n",
    "        \n",
    "        return json_files_l\n",
    "        \n",
    "                \n",
    "\n",
    "    def insert_json_file(self, filepath):\n",
    "        '''\n",
    "            insert any json file into collection\n",
    "        '''\n",
    "\n",
    "        with open(filepath) as jsonf :\n",
    "            file_data = json.load(jsonf)\n",
    "            if isinstance(file_data, list):\n",
    "                self.mycol.insert_many(file_data)\n",
    "            else:\n",
    "                self.mycol.insert_one(file_data)\n",
    "\n",
    "        client.close()\n",
    "\n",
    "\n",
    "    def _insert_flattened_json_file(self, file, col):\n",
    "        '''\n",
    "            public function to flatten and insert a yearly NVD JSON file into a collection of CVEs\n",
    "            input: file name - NVD yearly JSON file\n",
    "            output: InsertManyResult object\n",
    "        '''\n",
    "        df = pd.DataFrame()\n",
    "        with open(file) as data_file:\n",
    "           data = json.load(data_file)\n",
    "        #normalize out the CVEs\n",
    "        df = pd.json_normalize(data,'CVE_Items')\n",
    "        df.rename({'cve.CVE_data_meta.ID':'CVE_ID'}, axis=1,inplace=True)\n",
    "        #change the awkward index name\n",
    "        df.rename_axis('CVE')\n",
    "        #MongoDB doesn't like '.' in key names\n",
    "        df.columns = df.columns.str.replace(\".\", \"_\")\n",
    "        #insert records into MongoDB\n",
    "        result =col.insert_many(df.to_dict('records'))\n",
    "\n",
    "\n",
    "    def manage_bulk_insert(self,filelist):\n",
    "        '''\n",
    "            Public method to allow for loading all NVD JSON files into a collection\n",
    "        '''\n",
    "        try:\n",
    "            for file in filelist:\n",
    "                try:\n",
    "                    filecheck = pathlib.Path(self.workingpath + file)\n",
    "                    if not filecheck.exists():\n",
    "                        raise FileNotFoundError(\"file: not found on path\".format(filecheck))\n",
    "                except Exception as e:\n",
    "                    print(repr(e))\n",
    "                file = self.workingpath + file\n",
    "                print(\"inserting file: {}\".format(file))\n",
    "                self._insert_flattened_json_file(file,self.maincol)\n",
    "        except Exception as e:\n",
    "            print(repr(e))\n",
    "            \n",
    "    def reload_NVD_mod_file(self,download=True):\n",
    "        '''\n",
    "            Public method to download and insert the latest NVD CVE Modifications file\n",
    "            into the modscol collection. Optionally the file in the working directory \n",
    "            can be loaded without being downloaded (must exist on working dir). This doesn't apply the mods\n",
    "            to the main collection (maincol)\n",
    "            input: boolean (download flag)\n",
    "            output: integer (records inserted)\n",
    "        '''\n",
    "        if download:\n",
    "            self.get_NVD_files([\"nvdcve-1.1-modified.json.zip\"])\n",
    "        #empty the mod collection\n",
    "        self.remove_all_cves(self.modscol)\n",
    "        file = self.workingpath+\"nvdcve-1.1-modified.json\"\n",
    "        self._insert_flattened_json_file(file,self.modscol)\n",
    "    \n",
    "    def _get_mods_list_cursor(self):\n",
    "        '''\n",
    "            Private method to query for CVE mods and return a cursor of CVEs that have changed\n",
    "            input: na\n",
    "            output: cursor\n",
    "        '''\n",
    "        try:\n",
    "            filter_d = {}\n",
    "            proj_d = {}\n",
    "            cr = self.modscol.find(filter_d)\n",
    "            if self.modscol.count_documents({}) == 0:\n",
    "                raise ValueError (\"no modcves found\")\n",
    "                cr = None\n",
    "        except Exception as e:\n",
    "            print(repr(e))\n",
    "        return cr\n",
    "    \n",
    "    def _get_list_cursor(self, col):\n",
    "        '''\n",
    "            Private method to query a collection and return a cursor \n",
    "            input: collection\n",
    "            output: cursor\n",
    "        '''\n",
    "        try:\n",
    "            filter_d = {}\n",
    "            proj_d = {'CVE_ID':1}\n",
    "            cr = col.find(filter_d)\n",
    "            if col.count_documents({}) == 0:\n",
    "                raise ValueError (\"no cves found\")\n",
    "        except Exception as e:\n",
    "            print(repr(e))\n",
    "            cr = None\n",
    "        return cr\n",
    "    \n",
    "    def get_cve_exists(self,cve, col):\n",
    "        '''\n",
    "            Public method to query a collection for a given CVE and return exists versus not exists as bool\n",
    "            input: cve (string), collection\n",
    "            output: boolean\n",
    "        '''\n",
    "        \n",
    "        return bool(col.find_one({\"CVE_ID\":cve}))\n",
    "    \n",
    "    def update_main_from_mods(self):\n",
    "        '''\n",
    "            Public method to remove CVEs modified and add CVE modified and new CVEs into the main cve collection. The method\n",
    "            outputs the total number of changes as a list of mods and additions\n",
    "            input: na\n",
    "            output: [mods (integer), additions (integer)]\n",
    "        '''\n",
    "        mods_l = []\n",
    "        for cve in self._get_mods_list_cursor():\n",
    "            cve_id = cve.get(\"CVE_ID\")\n",
    "            #check if exists\n",
    "            if self.get_cve_exists(cve_id, self.maincol):\n",
    "                #if exists, add it to a list to be modified\n",
    "                mods_l.append(cve.get(\"_id\"))\n",
    "            \n",
    "        #delete the mods\n",
    "        #r_mods = self.maincol.delete_many({\"_id\":{'$in':mods_l}})\n",
    "        #add all the mods and additions\n",
    "        #r_adds =self.maincol.insert_many(list(self._get_mods_list_cursor()))\n",
    "        return mods_l\n",
    "    \n",
    "    def update_main_from_mods_dataframe(self):\n",
    "        '''\n",
    "            Public method to remove CVEs modified and add CVE modified and new CVEs into the main cve collection. The method\n",
    "            outputs the total number of changes as a list of mods and additions\n",
    "            input: na\n",
    "            output: [mods (integer), additions (integer)]\n",
    "        '''\n",
    "        \n",
    "        df1 = pd.DataFrame(list(self._get_list_cursor(self.modscol)))\n",
    "        df2 = pd.DataFrame(list(self._get_list_cursor(self.maincol)))\n",
    "        df = pd.merge(df1,df2,on=\"CVE_ID\", how = \"inner\")\n",
    "        \n",
    "        #save as a list of CVE#s\n",
    "        cve_l = df[\"CVE_ID\"].to_list()\n",
    "        #delete the true mods from main\n",
    "        result1=um.maincol.delete_many({\"CVE_ID\": {\"$in\":cve_l}})\n",
    "        #insert the mods\n",
    "        cur = self._get_list_cursor(self.modscol)\n",
    "        result2=um.maincol.insert_many(df1.to_dict('records'))\n",
    "        \n",
    "        return result1,result2\n",
    "        \n",
    "    \n",
    "    def remove_cve(self,cve,col):\n",
    "        '''\n",
    "            Public method to remove a single record from mongodb and return the deleted count\n",
    "            input: list of fields []\n",
    "            output: integer \n",
    "        '''\n",
    "        try:\n",
    "            query = { \"CVE_ID\":cve }\n",
    "            result = col.delete_one(query)\n",
    "            if result.deleted_count != 1:\n",
    "                raise ValueError(\"CVE: {} not deleted\".format(cve))\n",
    "        except Exception as e:\n",
    "            print(repr(e))\n",
    "        return result.deleted_count\n",
    "    \n",
    "    def remove_all_cves(self,col):\n",
    "        '''\n",
    "            Public method to remove all records from mongodb collection and return the deleted count\n",
    "            input: list of fields []\n",
    "            output: integer \n",
    "        '''\n",
    "        try:\n",
    "            query = {}\n",
    "            result = col.delete_many(query)\n",
    "        except Exception as e:\n",
    "            print(repr(e))\n",
    "        return result.deleted_count\n",
    "\n"
   ]
  },
  {
   "cell_type": "markdown",
   "metadata": {},
   "source": [
    "#### instantiate query and update instances"
   ]
  },
  {
   "cell_type": "code",
   "execution_count": 436,
   "metadata": {},
   "outputs": [],
   "source": [
    "um = UpdateMongo(\"/home/rzupancic/CVE/\")"
   ]
  },
  {
   "cell_type": "markdown",
   "metadata": {},
   "source": [
    "#### check the count of CVEs for a given string as a test\n",
    "Example: {\"CVE_ID\":{ \"$regex\": \"^CVE-2014\"}} will count the total CVEs that begin with CVE-2014\n",
    "Example: 2014 has 8845 (this could change)"
   ]
  },
  {
   "cell_type": "code",
   "execution_count": 100,
   "metadata": {},
   "outputs": [
    {
     "data": {
      "text/plain": [
       "8845"
      ]
     },
     "execution_count": 100,
     "metadata": {},
     "output_type": "execute_result"
    }
   ],
   "source": [
    "filter_d = {\"CVE_ID\":{ \"$regex\": \"^CVE-2014\"}}\n",
    "proj_d = {\"_id\":0,\"CVE_ID\":1}\n",
    "cr = um.get_fields(filter_d, proj_d,um.maincol)\n",
    "len(list(cr))"
   ]
  },
  {
   "cell_type": "markdown",
   "metadata": {},
   "source": [
    "#### There are two types of files we are interested in: yearly and mods"
   ]
  },
  {
   "cell_type": "code",
   "execution_count": null,
   "metadata": {},
   "outputs": [],
   "source": [
    "years = list(range(2002,2021))\n",
    "mod = [\"modified\"]"
   ]
  },
  {
   "cell_type": "markdown",
   "metadata": {},
   "source": [
    "#### Re-insert (or initially insert) the yearly files after optionally downloading the latest batch from NVD\n",
    "The boolean indicates whether to download. If false, simply re-insert the files in the <br>\n",
    "working directory (these must exist if download is False)"
   ]
  },
  {
   "cell_type": "code",
   "execution_count": 460,
   "metadata": {
    "scrolled": true
   },
   "outputs": [
    {
     "name": "stdout",
     "output_type": "stream",
     "text": [
      "inserting file: /home/rzupancic/CVE/nvdcve-1.1-2002.json\n",
      "inserting file: /home/rzupancic/CVE/nvdcve-1.1-2003.json\n",
      "inserting file: /home/rzupancic/CVE/nvdcve-1.1-2004.json\n",
      "inserting file: /home/rzupancic/CVE/nvdcve-1.1-2005.json\n",
      "inserting file: /home/rzupancic/CVE/nvdcve-1.1-2006.json\n",
      "inserting file: /home/rzupancic/CVE/nvdcve-1.1-2007.json\n",
      "inserting file: /home/rzupancic/CVE/nvdcve-1.1-2008.json\n",
      "inserting file: /home/rzupancic/CVE/nvdcve-1.1-2009.json\n",
      "inserting file: /home/rzupancic/CVE/nvdcve-1.1-2010.json\n",
      "inserting file: /home/rzupancic/CVE/nvdcve-1.1-2011.json\n",
      "inserting file: /home/rzupancic/CVE/nvdcve-1.1-2012.json\n",
      "inserting file: /home/rzupancic/CVE/nvdcve-1.1-2013.json\n",
      "inserting file: /home/rzupancic/CVE/nvdcve-1.1-2014.json\n",
      "inserting file: /home/rzupancic/CVE/nvdcve-1.1-2015.json\n",
      "inserting file: /home/rzupancic/CVE/nvdcve-1.1-2016.json\n",
      "inserting file: /home/rzupancic/CVE/nvdcve-1.1-2017.json\n",
      "inserting file: /home/rzupancic/CVE/nvdcve-1.1-2018.json\n",
      "inserting file: /home/rzupancic/CVE/nvdcve-1.1-2019.json\n",
      "inserting file: /home/rzupancic/CVE/nvdcve-1.1-2020.json\n"
     ]
    },
    {
     "data": {
      "text/plain": [
       "['nvdcve-1.1-2002.json',\n",
       " 'nvdcve-1.1-2003.json',\n",
       " 'nvdcve-1.1-2004.json',\n",
       " 'nvdcve-1.1-2005.json',\n",
       " 'nvdcve-1.1-2006.json',\n",
       " 'nvdcve-1.1-2007.json',\n",
       " 'nvdcve-1.1-2008.json',\n",
       " 'nvdcve-1.1-2009.json',\n",
       " 'nvdcve-1.1-2010.json',\n",
       " 'nvdcve-1.1-2011.json',\n",
       " 'nvdcve-1.1-2012.json',\n",
       " 'nvdcve-1.1-2013.json',\n",
       " 'nvdcve-1.1-2014.json',\n",
       " 'nvdcve-1.1-2015.json',\n",
       " 'nvdcve-1.1-2016.json',\n",
       " 'nvdcve-1.1-2017.json',\n",
       " 'nvdcve-1.1-2018.json',\n",
       " 'nvdcve-1.1-2019.json',\n",
       " 'nvdcve-1.1-2020.json']"
      ]
     },
     "execution_count": 460,
     "metadata": {},
     "output_type": "execute_result"
    }
   ],
   "source": [
    "um.rebuild_yearly_NVD_files(False)"
   ]
  },
  {
   "cell_type": "markdown",
   "metadata": {},
   "source": [
    "#### Reload the NVD Modifications file - this emptys the cvemods collection and rebuilds it. \n",
    "use reload_NVD_mods_file(False) to use an existing mods file in the working dir.<BR>\n",
    "reload_NVD_mods_file(True) will download the latest mods file and then insert <br>\n",
    " it into the modscol collection (True is the default)"
   ]
  },
  {
   "cell_type": "code",
   "execution_count": 389,
   "metadata": {},
   "outputs": [],
   "source": [
    "um.reload_NVD_mod_file(True)"
   ]
  },
  {
   "cell_type": "markdown",
   "metadata": {},
   "source": [
    "#### get counts of the two NVD collections "
   ]
  },
  {
   "cell_type": "code",
   "execution_count": 445,
   "metadata": {},
   "outputs": [
    {
     "name": "stdout",
     "output_type": "stream",
     "text": [
      "Total CVEs: 153866\n",
      "Total CVE Mods: 901\n"
     ]
    }
   ],
   "source": [
    "print(\"Total CVEs: {}\".format(um.get_count(um.maincol)))\n",
    "print(\"Total CVE Mods: {}\".format(um.get_count(um.modscol)))"
   ]
  },
  {
   "cell_type": "markdown",
   "metadata": {},
   "source": [
    "#### Get the last modified date of a CVE by CVEID from a given collection"
   ]
  },
  {
   "cell_type": "code",
   "execution_count": 245,
   "metadata": {},
   "outputs": [
    {
     "name": "stdout",
     "output_type": "stream",
     "text": [
      "[{'lastModifiedDate': '2020-12-10T15:17Z'}]\n"
     ]
    }
   ],
   "source": [
    "d1 = um.get_cve_last_modified(\"CVE-2005-0366\", um.modscol)\n",
    "print(list(d1))"
   ]
  },
  {
   "cell_type": "code",
   "execution_count": 244,
   "metadata": {},
   "outputs": [
    {
     "name": "stdout",
     "output_type": "stream",
     "text": [
      "[{'lastModifiedDate': '2008-09-10T19:35Z'}]\n"
     ]
    }
   ],
   "source": [
    "d1 = um.get_cve_last_modified(\"CVE-2005-0366\", um.maincol)\n",
    "print(list(d1))"
   ]
  },
  {
   "cell_type": "markdown",
   "metadata": {},
   "source": [
    "#### Get all info from a CVE and prettify the output"
   ]
  },
  {
   "cell_type": "code",
   "execution_count": 257,
   "metadata": {},
   "outputs": [
    {
     "name": "stdout",
     "output_type": "stream",
     "text": [
      "{\n",
      "    \"_id\": {\n",
      "        \"$oid\": \"5fd6a2fc18f709e5be049550\"\n",
      "    },\n",
      "    \"publishedDate\": \"2005-05-02T04:00Z\",\n",
      "    \"lastModifiedDate\": \"2008-09-10T19:35Z\",\n",
      "    \"cve_data_type\": \"CVE\",\n",
      "    \"cve_data_format\": \"MITRE\",\n",
      "    \"cve_data_version\": \"4.0\",\n",
      "    \"CVE_ID\": \"CVE-2005-0366\",\n",
      "    \"cve_CVE_data_meta_ASSIGNER\": \"cve@mitre.org\",\n",
      "    \"cve_problemtype_problemtype_data\": [\n",
      "        {\n",
      "            \"description\": [\n",
      "                {\n",
      "                    \"lang\": \"en\",\n",
      "                    \"value\": \"NVD-CWE-Other\"\n",
      "                }\n",
      "            ]\n",
      "        }\n",
      "    ],\n",
      "    \"cve_references_reference_data\": [\n",
      "        {\n",
      "            \"url\": \"http://eprint.iacr.org/2005/033\",\n",
      "            \"name\": \"http://eprint.iacr.org/2005/033\",\n",
      "            \"refsource\": \"MISC\",\n",
      "            \"tags\": []\n",
      "        },\n",
      "        {\n",
      "            \"url\": \"http://eprint.iacr.org/2005/033.pdf\",\n",
      "            \"name\": \"http://eprint.iacr.org/2005/033.pdf\",\n",
      "            \"refsource\": \"MISC\",\n",
      "            \"tags\": []\n",
      "        },\n",
      "        {\n",
      "            \"url\": \"http://securitytracker.com/id?1013166\",\n",
      "            \"name\": \"1013166\",\n",
      "            \"refsource\": \"SECTRACK\",\n",
      "            \"tags\": []\n",
      "        },\n",
      "        {\n",
      "            \"url\": \"http://www.gentoo.org/security/en/glsa/glsa-200503-29.xml\",\n",
      "            \"name\": \"GLSA-200503-29\",\n",
      "            \"refsource\": \"GENTOO\",\n",
      "            \"tags\": [\n",
      "                \"Vendor Advisory\"\n",
      "            ]\n",
      "        },\n",
      "        {\n",
      "            \"url\": \"http://www.kb.cert.org/vuls/id/303094\",\n",
      "            \"name\": \"VU#303094\",\n",
      "            \"refsource\": \"CERT-VN\",\n",
      "            \"tags\": [\n",
      "                \"Third Party Advisory\",\n",
      "                \"US Government Resource\"\n",
      "            ]\n",
      "        },\n",
      "        {\n",
      "            \"url\": \"http://www.mandriva.com/security/advisories?name=MDKSA-2005:057\",\n",
      "            \"name\": \"MDKSA-2005:057\",\n",
      "            \"refsource\": \"MANDRAKE\",\n",
      "            \"tags\": []\n",
      "        },\n",
      "        {\n",
      "            \"url\": \"http://www.novell.com/linux/security/advisories/2005_07_sr.html\",\n",
      "            \"name\": \"SUSE-SR:2005:007\",\n",
      "            \"refsource\": \"SUSE\",\n",
      "            \"tags\": []\n",
      "        },\n",
      "        {\n",
      "            \"url\": \"http://www.osvdb.org/13775\",\n",
      "            \"name\": \"13775\",\n",
      "            \"refsource\": \"OSVDB\",\n",
      "            \"tags\": []\n",
      "        },\n",
      "        {\n",
      "            \"url\": \"http://www.pgp.com/library/ctocorner/openpgp.html\",\n",
      "            \"name\": \"http://www.pgp.com/library/ctocorner/openpgp.html\",\n",
      "            \"refsource\": \"CONFIRM\",\n",
      "            \"tags\": [\n",
      "                \"Patch\",\n",
      "                \"Vendor Advisory\"\n",
      "            ]\n",
      "        },\n",
      "        {\n",
      "            \"url\": \"http://www.securityfocus.com/bid/12529\",\n",
      "            \"name\": \"12529\",\n",
      "            \"refsource\": \"BID\",\n",
      "            \"tags\": []\n",
      "        }\n",
      "    ],\n",
      "    \"cve_description_description_data\": [\n",
      "        {\n",
      "            \"lang\": \"en\",\n",
      "            \"value\": \"The integrity check feature in OpenPGP, when handling a message that was encrypted using cipher feedback (CFB) mode, allows remote attackers to recover part of the plaintext via a chosen-ciphertext attack when the first 2 bytes of a message block are known, and an oracle or other mechanism is available to determine whether an integrity check failed.\"\n",
      "        }\n",
      "    ],\n",
      "    \"configurations_CVE_data_version\": \"4.0\",\n",
      "    \"configurations_nodes\": [\n",
      "        {\n",
      "            \"operator\": \"OR\",\n",
      "            \"cpe_match\": [\n",
      "                {\n",
      "                    \"vulnerable\": true,\n",
      "                    \"cpe23Uri\": \"cpe:2.3:a:openpgp:openpgp:*:*:*:*:*:*:*:*\"\n",
      "                }\n",
      "            ]\n",
      "        }\n",
      "    ],\n",
      "    \"impact_baseMetricV2_cvssV2_version\": \"2.0\",\n",
      "    \"impact_baseMetricV2_cvssV2_vectorString\": \"AV:N/AC:L/Au:N/C:P/I:N/A:N\",\n",
      "    \"impact_baseMetricV2_cvssV2_accessVector\": \"NETWORK\",\n",
      "    \"impact_baseMetricV2_cvssV2_accessComplexity\": \"LOW\",\n",
      "    \"impact_baseMetricV2_cvssV2_authentication\": \"NONE\",\n",
      "    \"impact_baseMetricV2_cvssV2_confidentialityImpact\": \"PARTIAL\",\n",
      "    \"impact_baseMetricV2_cvssV2_integrityImpact\": \"NONE\",\n",
      "    \"impact_baseMetricV2_cvssV2_availabilityImpact\": \"NONE\",\n",
      "    \"impact_baseMetricV2_cvssV2_baseScore\": 5.0,\n",
      "    \"impact_baseMetricV2_severity\": \"MEDIUM\",\n",
      "    \"impact_baseMetricV2_exploitabilityScore\": 10.0,\n",
      "    \"impact_baseMetricV2_impactScore\": 2.9,\n",
      "    \"impact_baseMetricV2_obtainAllPrivilege\": false,\n",
      "    \"impact_baseMetricV2_obtainUserPrivilege\": false,\n",
      "    \"impact_baseMetricV2_obtainOtherPrivilege\": false,\n",
      "    \"impact_baseMetricV2_userInteractionRequired\": false,\n",
      "    \"impact_baseMetricV3_cvssV3_version\": NaN,\n",
      "    \"impact_baseMetricV3_cvssV3_vectorString\": NaN,\n",
      "    \"impact_baseMetricV3_cvssV3_attackVector\": NaN,\n",
      "    \"impact_baseMetricV3_cvssV3_attackComplexity\": NaN,\n",
      "    \"impact_baseMetricV3_cvssV3_privilegesRequired\": NaN,\n",
      "    \"impact_baseMetricV3_cvssV3_userInteraction\": NaN,\n",
      "    \"impact_baseMetricV3_cvssV3_scope\": NaN,\n",
      "    \"impact_baseMetricV3_cvssV3_confidentialityImpact\": NaN,\n",
      "    \"impact_baseMetricV3_cvssV3_integrityImpact\": NaN,\n",
      "    \"impact_baseMetricV3_cvssV3_availabilityImpact\": NaN,\n",
      "    \"impact_baseMetricV3_cvssV3_baseScore\": NaN,\n",
      "    \"impact_baseMetricV3_cvssV3_baseSeverity\": NaN,\n",
      "    \"impact_baseMetricV3_exploitabilityScore\": NaN,\n",
      "    \"impact_baseMetricV3_impactScore\": NaN,\n",
      "    \"impact_baseMetricV2_acInsufInfo\": NaN\n",
      "}\n"
     ]
    }
   ],
   "source": [
    "cve = um.get_cve(\"CVE-2005-0366\", um.maincol)\n",
    "print(json.dumps(um._parse_json(cve),indent=4))"
   ]
  },
  {
   "cell_type": "markdown",
   "metadata": {},
   "source": [
    "#### Remove a CVE by CVEID from a given collection"
   ]
  },
  {
   "cell_type": "code",
   "execution_count": null,
   "metadata": {},
   "outputs": [],
   "source": [
    "um.remove_cve(\"CVE-2020-15999\",um.cvecol)"
   ]
  },
  {
   "cell_type": "markdown",
   "metadata": {},
   "source": [
    "#### Get a dataframe of true mods - CVEs that actually existed and were modified"
   ]
  },
  {
   "cell_type": "code",
   "execution_count": 443,
   "metadata": {},
   "outputs": [
    {
     "name": "stdout",
     "output_type": "stream",
     "text": [
      "            CVE_ID   lastModifiedDate\n",
      "0    CVE-2007-0720  2020-12-15T02:02Z\n",
      "1    CVE-2007-1320  2020-12-15T23:52Z\n",
      "2    CVE-2007-1321  2020-12-15T23:52Z\n",
      "3    CVE-2007-1322  2020-12-15T23:49Z\n",
      "4    CVE-2007-1366  2020-12-15T23:49Z\n",
      "..             ...                ...\n",
      "200  CVE-2020-9488  2020-12-16T06:15Z\n",
      "201  CVE-2020-9876  2020-12-15T20:15Z\n",
      "202  CVE-2020-9883  2020-12-15T20:15Z\n",
      "203  CVE-2020-9941  2020-12-15T20:15Z\n",
      "204  CVE-2020-9952  2020-12-18T19:10Z\n",
      "\n",
      "[205 rows x 2 columns]\n",
      "Length of DataFrame: (205, 2)\n"
     ]
    }
   ],
   "source": [
    "df = um.get_true_mods_CVEID()\n",
    "print(df[['CVE_ID','lastModifiedDate']])  \n",
    "print(\"Length of DataFrame: {}\".format(df.shape))"
   ]
  },
  {
   "cell_type": "markdown",
   "metadata": {},
   "source": [
    "#### Get a dataframe of the new, not in main,  CVEs that were in the Mods file"
   ]
  },
  {
   "cell_type": "code",
   "execution_count": 394,
   "metadata": {},
   "outputs": [
    {
     "name": "stdout",
     "output_type": "stream",
     "text": [
      "             CVE_ID   lastModifiedDate\n",
      "35   CVE-2018-16243  2020-12-17T18:05Z\n",
      "52   CVE-2019-14476  2020-12-18T15:41Z\n",
      "53   CVE-2019-14477  2020-12-17T20:31Z\n",
      "54   CVE-2019-14478  2020-12-17T16:32Z\n",
      "55   CVE-2019-14479  2020-12-17T20:12Z\n",
      "..              ...                ...\n",
      "896   CVE-2020-9988  2020-12-15T20:15Z\n",
      "897   CVE-2020-9989  2020-12-15T20:15Z\n",
      "898   CVE-2020-9991  2020-12-15T23:15Z\n",
      "899   CVE-2020-9996  2020-12-15T20:15Z\n",
      "900   CVE-2020-9999  2020-12-16T05:15Z\n",
      "\n",
      "[696 rows x 2 columns]\n",
      "Length of DataFrame: (696, 3)\n"
     ]
    }
   ],
   "source": [
    "df = um.get_new_cves_from_mods()\n",
    "print(df[['CVE_ID','lastModifiedDate']])  \n",
    "print(\"Length of DataFrame: {}\".format(df.shape))"
   ]
  },
  {
   "cell_type": "code",
   "execution_count": 253,
   "metadata": {},
   "outputs": [
    {
     "data": {
      "text/html": [
       "<div>\n",
       "<style scoped>\n",
       "    .dataframe tbody tr th:only-of-type {\n",
       "        vertical-align: middle;\n",
       "    }\n",
       "\n",
       "    .dataframe tbody tr th {\n",
       "        vertical-align: top;\n",
       "    }\n",
       "\n",
       "    .dataframe thead th {\n",
       "        text-align: right;\n",
       "    }\n",
       "</style>\n",
       "<table border=\"1\" class=\"dataframe\">\n",
       "  <thead>\n",
       "    <tr style=\"text-align: right;\">\n",
       "      <th></th>\n",
       "      <th>lastModifiedDate</th>\n",
       "      <th>CVE_ID</th>\n",
       "    </tr>\n",
       "  </thead>\n",
       "  <tbody>\n",
       "    <tr>\n",
       "      <th>16</th>\n",
       "      <td>2020-12-10T15:17Z</td>\n",
       "      <td>CVE-2005-0366</td>\n",
       "    </tr>\n",
       "  </tbody>\n",
       "</table>\n",
       "</div>"
      ],
      "text/plain": [
       "     lastModifiedDate         CVE_ID\n",
       "16  2020-12-10T15:17Z  CVE-2005-0366"
      ]
     },
     "execution_count": 253,
     "metadata": {},
     "output_type": "execute_result"
    }
   ],
   "source": [
    "df[df.loc[:,\"CVE_ID\"]==\"CVE-2005-0366\"]"
   ]
  },
  {
   "cell_type": "markdown",
   "metadata": {},
   "source": [
    "#### get a dataframe of CVEs newer than a given date"
   ]
  },
  {
   "cell_type": "code",
   "execution_count": 243,
   "metadata": {},
   "outputs": [
    {
     "name": "stdout",
     "output_type": "stream",
     "text": [
      "      lastModifiedDate          CVE_ID             Updated\n",
      "16   2020-12-10T15:17Z   CVE-2005-0366 2020-12-10 15:17:00\n",
      "32   2020-12-10T00:15Z   CVE-2015-5184 2020-12-10 00:15:00\n",
      "38   2020-12-10T23:15Z  CVE-2016-15001 2020-12-10 23:15:00\n",
      "45   2020-12-10T20:59Z  CVE-2017-11422 2020-12-10 20:59:00\n",
      "54   2020-12-10T20:59Z   CVE-2017-3222 2020-12-10 20:59:00\n",
      "..                 ...             ...                 ...\n",
      "810  2020-12-11T00:15Z   CVE-2020-8694 2020-12-11 00:15:00\n",
      "811  2020-12-11T05:15Z   CVE-2020-8908 2020-12-11 05:15:00\n",
      "812  2020-12-10T12:54Z   CVE-2020-8919 2020-12-10 12:54:00\n",
      "813  2020-12-10T12:54Z   CVE-2020-8920 2020-12-10 12:54:00\n",
      "818  2020-12-11T13:13Z   CVE-2020-9301 2020-12-11 13:13:00\n",
      "\n",
      "[405 rows x 3 columns]\n"
     ]
    }
   ],
   "source": [
    "df = um.get_CVEID_newer_than(\"2020-12-10\", \"modcol\")\n",
    "print(df)"
   ]
  },
  {
   "cell_type": "markdown",
   "metadata": {},
   "source": [
    "#### check if a CVE_ID exists in a given collection"
   ]
  },
  {
   "cell_type": "code",
   "execution_count": 259,
   "metadata": {},
   "outputs": [
    {
     "data": {
      "text/plain": [
       "True"
      ]
     },
     "execution_count": 259,
     "metadata": {},
     "output_type": "execute_result"
    }
   ],
   "source": [
    "um.get_cve_exists(\"CVE-2005-0366\",um.maincol)"
   ]
  },
  {
   "cell_type": "markdown",
   "metadata": {},
   "source": [
    "#### Create a small function to return a list of mods that exist in the main collection\n",
    "Note that this will be crazy slow\n"
   ]
  },
  {
   "cell_type": "code",
   "execution_count": 402,
   "metadata": {},
   "outputs": [
    {
     "name": "stdout",
     "output_type": "stream",
     "text": [
      "1min 28s ± 2.05 s per loop (mean ± std. dev. of 7 runs, 1 loop each)\n",
      "205\n"
     ]
    }
   ],
   "source": [
    "def get_list(um):\n",
    "    mods_l = []\n",
    "    for cve in um._get_mods_list_cursor():\n",
    "        #print(cve)\n",
    "        cve_id = cve.get(\"CVE_ID\")\n",
    "        #check if exists in main collection\n",
    "        if um.get_cve_exists(cve_id, um.maincol):\n",
    "            #if exists, add it to a list to be modified\n",
    "            mods_l.append(cve.get(\"_id\"))\n",
    "    return mods_l\n",
    "\n",
    "%timeit t_mods_l = get_list(um)\n",
    "print(len(t_mods_l))\n"
   ]
  },
  {
   "cell_type": "markdown",
   "metadata": {},
   "source": [
    "#### Try the same thing using a DataFrame"
   ]
  },
  {
   "cell_type": "code",
   "execution_count": 447,
   "metadata": {},
   "outputs": [
    {
     "name": "stdout",
     "output_type": "stream",
     "text": [
      "609 ms ± 3.04 ms per loop (mean ± std. dev. of 7 runs, 1 loop each)\n"
     ]
    },
    {
     "data": {
      "text/plain": [
       "(205, 2)"
      ]
     },
     "execution_count": 447,
     "metadata": {},
     "output_type": "execute_result"
    }
   ],
   "source": [
    "%timeit df2 = um.get_true_mods_CVEID()\n",
    "df2.shape"
   ]
  },
  {
   "cell_type": "markdown",
   "metadata": {},
   "source": [
    "#### how to delete many on a list\n",
    "<ul>\n",
    "    <li>get a dataframe that contains the _id's that you want to delete</li>\n",
    "<li>make sure the _id column didn't get renamed (as in a merge): <i>df.rename(columns={\"_xyz?\":\"_id\"},inplace=True)</i></li>\n",
    "    <li>get a list in the form: <b>ObjectId('5fd537df18f709e5be046598'),</b> :<i> id_l =df.to_list()</i></li>\n",
    "    <li>run a delete many against the filter: um.maincol.delete_many( {\"_id\": {\"in\":id_l}}  )</li>\n",
    "<li> execute the delete:<br> db.collection.delete_many({\"_id\": {\"$in\":id_l}})  </li>\n",
    "</ul>"
   ]
  },
  {
   "cell_type": "code",
   "execution_count": 438,
   "metadata": {},
   "outputs": [],
   "source": [
    "#use df2 dataframe from previous cell\n",
    "cve_l = df2[\"CVE_ID\"].to_list()"
   ]
  },
  {
   "cell_type": "code",
   "execution_count": 439,
   "metadata": {},
   "outputs": [],
   "source": [
    "#delete all of the true mods from the main collection\n",
    "result=um.maincol.delete_many({\"CVE_ID\": {\"$in\":cve_l}})"
   ]
  },
  {
   "cell_type": "code",
   "execution_count": 440,
   "metadata": {},
   "outputs": [
    {
     "data": {
      "text/plain": [
       "0"
      ]
     },
     "execution_count": 440,
     "metadata": {},
     "output_type": "execute_result"
    }
   ],
   "source": [
    "#should match with the number of true mods \n",
    "result.deleted_count"
   ]
  },
  {
   "cell_type": "markdown",
   "metadata": {},
   "source": [
    "#### insert all mods into main collection"
   ]
  },
  {
   "cell_type": "code",
   "execution_count": 465,
   "metadata": {},
   "outputs": [
    {
     "name": "stdout",
     "output_type": "stream",
     "text": [
      "Total CVEs in main collection: 153866\n",
      "True Mods count: 205\n",
      "Total new CVEs in mods file: 696\n",
      "Expect to see: 154562 in main collection when mods file applied\n"
     ]
    }
   ],
   "source": [
    "main_cves_count = um.get_count(um.maincol)\n",
    "print(\"Total CVEs in main collection: {}\".format(main_cves_count))\n",
    "mod_df=um.get_true_mods_CVEID()\n",
    "new_df=um.get_new_cves_from_mods()\n",
    "mod_cves_count = mod_df.shape[0]\n",
    "new_cves_count = new_df.shape[0]\n",
    "print(\"True Mods count: {}\".format(mod_cves_count))\n",
    "print(\"Total new CVEs in mods file: {}\".format(new_cves_count))\n",
    "print(\"Expect to see: {} in main collection when mods file applied\".format(main_cves_count +new_cves_count))"
   ]
  },
  {
   "cell_type": "code",
   "execution_count": 466,
   "metadata": {},
   "outputs": [],
   "source": [
    "#update the main collection by applying the mods file\n",
    "r1,r2 = um.update_main_from_mods_dataframe()"
   ]
  },
  {
   "cell_type": "code",
   "execution_count": 467,
   "metadata": {},
   "outputs": [
    {
     "name": "stdout",
     "output_type": "stream",
     "text": [
      "Deleted Count: 205\n",
      "Inserted Count: 901\n",
      "Total CVEs in main collection: 154562\n"
     ]
    }
   ],
   "source": [
    "print(\"Deleted Count: {}\".format(r1.deleted_count))\n",
    "print(\"Inserted Count: {}\".format(len(r2.inserted_ids)))\n",
    "print(\"Total CVEs in main collection: {}\".format(um.get_count(um.maincol)))"
   ]
  },
  {
   "cell_type": "code",
   "execution_count": 455,
   "metadata": {},
   "outputs": [
    {
     "data": {
      "text/plain": [
       "pymongo.results.InsertManyResult"
      ]
     },
     "execution_count": 455,
     "metadata": {},
     "output_type": "execute_result"
    }
   ],
   "source": [
    "type(r2)"
   ]
  },
  {
   "cell_type": "code",
   "execution_count": 458,
   "metadata": {},
   "outputs": [
    {
     "data": {
      "text/plain": [
       "901"
      ]
     },
     "execution_count": 458,
     "metadata": {},
     "output_type": "execute_result"
    }
   ],
   "source": [
    "len(r2.inserted_ids)"
   ]
  },
  {
   "cell_type": "code",
   "execution_count": null,
   "metadata": {},
   "outputs": [],
   "source": []
  }
 ],
 "metadata": {
  "kernelspec": {
   "display_name": "Python 3",
   "language": "python",
   "name": "python3"
  },
  "language_info": {
   "codemirror_mode": {
    "name": "ipython",
    "version": 3
   },
   "file_extension": ".py",
   "mimetype": "text/x-python",
   "name": "python",
   "nbconvert_exporter": "python",
   "pygments_lexer": "ipython3",
   "version": "3.8.3"
  }
 },
 "nbformat": 4,
 "nbformat_minor": 4
}
